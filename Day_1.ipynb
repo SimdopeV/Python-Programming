{
 "cells": [
  {
   "cell_type": "code",
   "execution_count": 2,
   "id": "09cad686",
   "metadata": {},
   "outputs": [
    {
     "name": "stdout",
     "output_type": "stream",
     "text": [
      "Hello Simdope\n"
     ]
    }
   ],
   "source": [
    "print(\"Hello Simdope\")"
   ]
  },
  {
   "cell_type": "code",
   "execution_count": 3,
   "id": "f7197305",
   "metadata": {},
   "outputs": [
    {
     "name": "stdout",
     "output_type": "stream",
     "text": [
      "30\n"
     ]
    }
   ],
   "source": [
    "x = 10\n",
    "y = 20\n",
    "print(x+y)"
   ]
  },
  {
   "cell_type": "code",
   "execution_count": 4,
   "id": "83777dfc",
   "metadata": {},
   "outputs": [
    {
     "name": "stdout",
     "output_type": "stream",
     "text": [
      "x plus y =  30\n"
     ]
    }
   ],
   "source": [
    "print(f\"x plus y =  {x+y}\")"
   ]
  },
  {
   "cell_type": "code",
   "execution_count": 6,
   "id": "36df3ab2",
   "metadata": {},
   "outputs": [
    {
     "name": "stdout",
     "output_type": "stream",
     "text": [
      "Enter your name: victor\n",
      "Enter year of birth: 1990\n",
      "victor is 32.0 years old\n"
     ]
    }
   ],
   "source": [
    "name = input(\"Enter your name: \")\n",
    "y = float(input(\"Enter year of birth: \"))\n",
    "age = 2022 - y\n",
    "print(f\"{name} is {age} years old\")"
   ]
  },
  {
   "cell_type": "code",
   "execution_count": 8,
   "id": "a24b75bf",
   "metadata": {},
   "outputs": [
    {
     "name": "stdout",
     "output_type": "stream",
     "text": [
      "\n",
      "   Hello victor,\n",
      "   the computer calculated your age to be 32.0 years old\n",
      "   Hope your details are correct\n",
      "\n"
     ]
    }
   ],
   "source": [
    "print(f\"\"\"\n",
    "   Hello {name},\n",
    "   the computer calculated your age to be {age} years old\n",
    "   Hope your details are correct\n",
    "\"\"\")"
   ]
  },
  {
   "cell_type": "code",
   "execution_count": 21,
   "id": "128c9063",
   "metadata": {},
   "outputs": [
    {
     "name": "stdout",
     "output_type": "stream",
     "text": [
      "enter temperature value: 100\n",
      "enter unit (f/c): f\n",
      "the temperature value from fahr to cel is 37.7778 celsius\n"
     ]
    }
   ],
   "source": [
    "temp_val = float(input(\"enter temperature value: \"))\n",
    "unit = input(\"enter unit (f/c): \").lower()\n",
    "\n",
    "if unit == \"f\":\n",
    "    temp_fahr = round((5/9) * (temp_val - 32), 4)\n",
    "    print(f\"the temperature value from fahr to cel is {temp_fahr} celsius\")\n",
    "elif unit == \"c\":\n",
    "    temp_cel = round((9/5) * (temp_val + 32), 4)\n",
    "    print(f\" the temperature value from cel to fahr is {temp_cel} fahrenheit\")\n",
    "else:\n",
    "    print(f\"input not understood\")"
   ]
  },
  {
   "cell_type": "code",
   "execution_count": 1,
   "id": "34a1d03a",
   "metadata": {},
   "outputs": [
    {
     "name": "stdout",
     "output_type": "stream",
     "text": [
      "the default units are lbs and ft\n",
      "enter weight value: 155\n",
      "enter weight unit: lbs\n",
      "enter height value: 6\n",
      "enter height unit: ft\n",
      "bmi value of 4.305555555555555 is okay\n"
     ]
    }
   ],
   "source": [
    "print(\"the default units are lbs and ft\")\n",
    "weight = float(input(\"enter weight value: \"))\n",
    "unit_weight = input(\"enter weight unit: \")\n",
    "height = float(input(\"enter height value: \"))\n",
    "unit_height = input(\"enter height unit: \")\n",
    "\n",
    "if unit_weight == 'lbs' and unit_height == 'ft':\n",
    "    bmi = weight/(height**2)\n",
    "    if bmi >= 0.5 and bmi <= 2.5:\n",
    "        print(f\"bmi value of {bmi} is too low\")\n",
    "    elif bmi >=2.6 and bmi <= 5.5:\n",
    "        print(f\"bmi value of {bmi} is okay\")\n",
    "    else:\n",
    "        print(f\"bmi value of {bmi} is challenging\")\n",
    "    #print(f\"{bmi}lbs/ft2)\n",
    "    \n",
    "elif unit_weight == \"kg\" and unit_height == \"m\":\n",
    "    bmi = (weight/2.204) / ((height/3.281)**2)\n",
    "    print(f\"{bmi}kg/m2\")\n",
    "    \n",
    "else:\n",
    "    print(f\"conversion not available or input incorrect\")"
   ]
  },
  {
   "cell_type": "code",
   "execution_count": null,
   "id": "a3b17f7d",
   "metadata": {},
   "outputs": [],
   "source": []
  },
  {
   "cell_type": "code",
   "execution_count": null,
   "id": "e9a20c81",
   "metadata": {},
   "outputs": [],
   "source": []
  }
 ],
 "metadata": {
  "kernelspec": {
   "display_name": "Python 3 (ipykernel)",
   "language": "python",
   "name": "python3"
  },
  "language_info": {
   "codemirror_mode": {
    "name": "ipython",
    "version": 3
   },
   "file_extension": ".py",
   "mimetype": "text/x-python",
   "name": "python",
   "nbconvert_exporter": "python",
   "pygments_lexer": "ipython3",
   "version": "3.9.7"
  }
 },
 "nbformat": 4,
 "nbformat_minor": 5
}
